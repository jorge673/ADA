{
  "nbformat": 4,
  "nbformat_minor": 0,
  "metadata": {
    "colab": {
      "provenance": [],
      "authorship_tag": "ABX9TyMTsIngdGfuvWEJ58wxlHcb",
      "include_colab_link": true
    },
    "kernelspec": {
      "name": "python3",
      "display_name": "Python 3"
    },
    "language_info": {
      "name": "python"
    }
  },
  "cells": [
    {
      "cell_type": "markdown",
      "metadata": {
        "id": "view-in-github",
        "colab_type": "text"
      },
      "source": [
        "<a href=\"https://colab.research.google.com/github/jorge673/ADA/blob/main/Informe-Qsort.ipynb\" target=\"_parent\"><img src=\"https://colab.research.google.com/assets/colab-badge.svg\" alt=\"Open In Colab\"/></a>"
      ]
    },
    {
      "cell_type": "markdown",
      "source": [
        "# **1. Descripcion del problema**\n",
        "---\n",
        "**Entrada**: Una lista de n-números: $a = [a_1, a_2,…,a_{n-1}, a_n]$\n",
        "\n",
        "**Salida**: Una lista ordenada con los elementos ordenados $a' = [a_1, a_2,…,a_{n-1}, a_n]$ de manera que *$a_1'\\leq a_2' \\leq a_3'\\leq... \\leq a_n'$*\n",
        "\n",
        "![image](https://imgur.com/v99pCtP.png)\n",
        "\n",
        "Es uno de los problemas más antiguos de la programación y uno de los más comunes a la vez debido a que tiene un grado de complejidad a pesar de lo muy simple y sencillo que parezca, es por eso que hasta el día de hoy se investiga sobre este problema para hacerlo cada vez más sencillo y eficiente.\n",
        "\n"
      ],
      "metadata": {
        "id": "lG-GIBpe5gYw"
      }
    },
    {
      "cell_type": "markdown",
      "source": [
        "#**2. Quicksort**\n",
        "---\n"
      ],
      "metadata": {
        "id": "bO_rwDAE5yvc"
      }
    },
    {
      "cell_type": "markdown",
      "source": [
        "##**2.1 Codigo**"
      ],
      "metadata": {
        "id": "Yp7V4IBC54rD"
      }
    },
    {
      "cell_type": "code",
      "source": [
        "import random\n",
        "from termcolor import colored\n",
        "\n",
        "def Particion(l, r, arr,cont,verbose=False):\n",
        "  pivot, i = arr[r], l\n",
        "\n",
        "  for j in range(l, r):\n",
        "      if arr[j] <= pivot:\n",
        "          arr[i], arr[j] = arr[j], arr[i]\n",
        "          i += 1\n",
        "          cont+=1\n",
        "      if(verbose):\n",
        "        print(\"   Ciclo (\"+str(j+1)+\") = [\",end=\"\")\n",
        "        if(i>0 and l!=i):\n",
        "          print(colored(f\"{str(a[l:i])[1:-1]}\",\"red\"),end=colored(f\", \",\"red\"))\n",
        "        if(j>=i):\n",
        "          print(colored(f\"{str(a[i:j+1])[1:-1]}\",\"blue\"),end=colored(f\", \",\"blue\"))\n",
        "        if(j!=r-1):\n",
        "          print(str(a[j+1:r])[1:-1],end=\", \")\n",
        "        print(colored(f\"{str(a[r])}\",\"green\")+\"]\")\n",
        "\n",
        "  arr[i], arr[r] = arr[r], arr[i]\n",
        "\n",
        "  if(verbose and i!=r):\n",
        "    print(\"Intercambio = [\",end=\"\")\n",
        "    if(i>0 and l!=i):\n",
        "      print(colored(f\"{str(a[l:i])[1:-1]}\",\"red\"),end=colored(f\", \",\"red\"))\n",
        "\n",
        "    print(colored(f\"{str(a[i])}\",\"green\"),end=colored(f\", \",\"green\"))\n",
        "\n",
        "    if(j>=i):\n",
        "      print(colored(f\"{str(a[i+1:r+1])[1:-1]}\",\"blue\")+\"]\")\n",
        "    \n",
        "\n",
        "  return i,cont\n",
        "\n",
        "def RandParticion(l, r, arr,cont,verbose=False):\n",
        "  if(l<r and len(arr)!=1 ):\n",
        "    randpivot = random.randrange(l, r)\n",
        "  arr[l], arr[randpivot] = arr[randpivot], arr[l]\n",
        "\n",
        "  return Particion(l, r, arr,cont,verbose)\n",
        "\n",
        "def BajaParticion(l, r, arr,cont,verbose=False):\n",
        "\n",
        "  arr[l], arr[r] = arr[r], arr[l]\n",
        "\n",
        "  return Particion(l, r, arr,cont,verbose)\n",
        "\n",
        " \n",
        "def Qsort(low, high, arr ,func=Particion ,verbose=False ,cont=0 ):\n",
        "  \n",
        "  if(verbose and low < high):print(\"Qsort:\",arr[low:high+1])\n",
        "\n",
        "  if len(arr) == 1: \n",
        "      if(verbose):\n",
        "        print(\"El arrelgo es de tamaño 1\") \n",
        "      return arr\n",
        "\n",
        "  if low < high:\n",
        "\n",
        "      pi ,cont = func(low, high, arr, cont ,verbose)\n",
        "\n",
        "      arr,cont=Qsort(low, pi-1, arr,func,verbose,cont)  \n",
        "      arr,cont=Qsort(pi+1, high, arr,func,verbose,cont)  \n",
        "\n",
        "  return arr,cont\n",
        "\n",
        "a=[9,2,6,3,7,4,5,1,8]\n",
        "\n",
        "print(\"Arreglo a:\",a)\n",
        "a,cont = Qsort(0,len(a)-1,a,Particion)\n",
        "print(\"Arreglo ordenado :\",a)"
      ],
      "metadata": {
        "colab": {
          "base_uri": "https://localhost:8080/"
        },
        "id": "C-Xhkzs758cH",
        "outputId": "c8b620b4-f560-455e-ca25-2adfd0143bc1"
      },
      "execution_count": 300,
      "outputs": [
        {
          "output_type": "stream",
          "name": "stdout",
          "text": [
            "Arreglo a: [9, 2, 6, 3, 7, 4, 5, 1, 8]\n",
            "Arreglo ordenado : [1, 2, 3, 4, 5, 6, 7, 8, 9]\n"
          ]
        }
      ]
    },
    {
      "cell_type": "markdown",
      "source": [
        "---"
      ],
      "metadata": {
        "id": "8y1yPiCnFAiI"
      }
    },
    {
      "cell_type": "markdown",
      "source": [
        "##2.2 **Descpripcion del algoritmo**\n",
        "----\n",
        "Al algoritmo se le entrega un arreglo de $n$-elementos y los indices de ambos estremos (si el arreglo es de 4 elementos se le entrega {0,4} respectivamente) para que este devuelva o retorne el mismo arrelgo con sus elementos ordenados de menor a mayor para esto quicksort usa el paradigma de divide y conquista, \n",
        "\n",
        "1.   usando la funcion `particion` se trata de sacar el pivote el cual partira el algoritmo en 2 mitades tal que los elementos que estan por debajo del pivote son menores que este y la mitad por arriba son mayores que el pivote\n",
        "2.   se retorna qsort de ambas mitades `qsort(a,inferior,pivote-1)` y `qsort(a,pivote+1,superior)`\n",
        "3. retorna arreglo ordenado\n",
        "\n",
        "\n",
        "##**2.3 Funcion Particion()**\n",
        "---\n",
        "  esta funcion se encarga de sacar el pivote del arreglo desde `low` hasta `high` para esto asigna el ultimo elemento e crea 2 parametros \n",
        "  >`i` es el indice que se usa para asignar los elementos menores al verbose  \n",
        "  >`j` es el indice que se usa para asignar los elementos mayores al verbose\n",
        "\n",
        "de donde sacamos el pivote es elecion del usario por lo general se saca el ultimo elemento del arreglo\n",
        "\n",
        "1. Revisar si arr[j] es **mayor o menor que x**. \n",
        "2. Si `arr[j] > x`, está todo bien\n",
        "3. Si `arr[j] <= x`, intercambiamos `arr[j]` con `arr[i+1]` y i aumenta una unidad.\n",
        "4. En cualquier caso j se aumenta 1 unidad\n",
        "\n",
        "\n",
        "##**2.4 Ejemplo Particion()**\n",
        "---\n",
        ">![image](https://i.stack.imgur.com/F0pge.png)\n",
        "\n",
        "como se explica en la imagen el arreglo que va de `p` hasta `j` va comparando a `j` con arr[r] al final de todo se intercambia arr[r] con arr[i]\n",
        "\n",
        "\n",
        "\n"
      ],
      "metadata": {
        "id": "SSw2ne976A8k"
      }
    },
    {
      "cell_type": "markdown",
      "source": [
        "#**3.Tiempo de ejecucion**\n",
        ">Teorema:\n",
        ">_\"QuickSort tiene una complejidad temporal de $O(nlLog(n))$ en el mejor caso y $O(n^2)$ en el peor caso\"_\n",
        "\n",
        "##**3.1 Prueba del teorema**\n",
        "---\n",
        "para esto analisaremos los casos que el pivote queda en la mitdad $(n/2)$ y cuando el pivote es el antecesor del final del arrelgo $(n-1)$ esto porque el tamaño de este inlfuye cuantas mitades se divide la recursividad\n",
        "\n",
        "---\n",
        "\n",
        "\n"
      ],
      "metadata": {
        "id": "S3_UmXOmx1Vm"
      }
    },
    {
      "cell_type": "markdown",
      "source": [
        "##**3.2 Para cuando el pivote es $n/2$**:\n",
        "---\n",
        "\n",
        "en este caso qsort se va a dividir en 2 partes iguales y ademas tiene que hacer el trabajo de `particion()` el cual al solo recorrer el arreglo tiene complegidad $O(n)$ asi que se puede representar de la siguente manera:\n",
        "\n",
        "$$T(n)=2T(n/2)+O(n)$$\n",
        "\n",
        ">*siendo $2T(n/2)$ qsort partiendose en 2 partes iguales y $O(n)$ el trabajo de `particion()`*\n",
        "\n",
        "Ahora para calcular la complejidad temporal se puede usar el teorema maestro\n",
        "\n",
        "para el cual decimos que:\n",
        "\n",
        "\n",
        "$$T(n)=aT(n/b)+O(n^d)$$\n",
        "\n",
        ">*para nuestor caso*: a=2, b=2, d=1 (todos mayores que 0)\n",
        "\n",
        "entonces segun el teorema maestro cuando $a=b^d$ (nuestro caso) la complejidad temporal va ser\n",
        "\n",
        "$$O(n^dLog(n))$$\n",
        "\n",
        "remplazamos y asi podemos concluir que la complejidad temporal es $O(nlog(n))$\n",
        "\n",
        "###**¿cuando el pivote es $n/2$?**\n",
        ">en la funcion `particion()` ocurre cuando el pivote tiene la mimsa cantidad de elemento menores que mayores un ejemplo seria $a$=[1, 2, 3, 4, 6, 7, 8, 9, 5] siendo 5 el pivote este es mayor que [1, 2, 3, 4] pero menor que [6, 7, 6, 9] teniendo ambos \"sub-arrelgos\" la misma cantidad de elementos\n",
        "--- "
      ],
      "metadata": {
        "id": "Ksz8laSiE6Jy"
      }
    },
    {
      "cell_type": "code",
      "source": [
        "a=[1,3,2,6,5,7,4]\n",
        "\n",
        "a,cont = Qsort(0,len(a)-1,a,Particion,True)\n",
        "\n",
        "print()\n",
        "print(\"Arreglo ordenado:\",a)\n",
        "print(\"Cantidad de intercambios:\",cont)"
      ],
      "metadata": {
        "colab": {
          "base_uri": "https://localhost:8080/"
        },
        "id": "SpoepaiziU5y",
        "outputId": "dd3975b0-0045-40c7-a7b1-7c446f6fe587"
      },
      "execution_count": 273,
      "outputs": [
        {
          "output_type": "stream",
          "name": "stdout",
          "text": [
            "Qsort: [1, 3, 2, 6, 5, 7, 4]\n",
            "   Ciclo (1) = [\u001b[31m1\u001b[0m\u001b[31m, \u001b[0m3, 2, 6, 5, 7, \u001b[32m4\u001b[0m]\n",
            "   Ciclo (2) = [\u001b[31m1, 3\u001b[0m\u001b[31m, \u001b[0m2, 6, 5, 7, \u001b[32m4\u001b[0m]\n",
            "   Ciclo (3) = [\u001b[31m1, 3, 2\u001b[0m\u001b[31m, \u001b[0m6, 5, 7, \u001b[32m4\u001b[0m]\n",
            "   Ciclo (4) = [\u001b[31m1, 3, 2\u001b[0m\u001b[31m, \u001b[0m\u001b[34m6\u001b[0m\u001b[34m, \u001b[0m5, 7, \u001b[32m4\u001b[0m]\n",
            "   Ciclo (5) = [\u001b[31m1, 3, 2\u001b[0m\u001b[31m, \u001b[0m\u001b[34m6, 5\u001b[0m\u001b[34m, \u001b[0m7, \u001b[32m4\u001b[0m]\n",
            "   Ciclo (6) = [\u001b[31m1, 3, 2\u001b[0m\u001b[31m, \u001b[0m\u001b[34m6, 5, 7\u001b[0m\u001b[34m, \u001b[0m\u001b[32m4\u001b[0m]\n",
            "Intercambio = [\u001b[31m1, 3, 2\u001b[0m\u001b[31m, \u001b[0m\u001b[32m4\u001b[0m\u001b[32m, \u001b[0m\u001b[34m5, 7, 6\u001b[0m]\n",
            "Qsort: [1, 3, 2]\n",
            "   Ciclo (1) = [\u001b[31m1\u001b[0m\u001b[31m, \u001b[0m3, \u001b[32m2\u001b[0m]\n",
            "   Ciclo (2) = [\u001b[31m1\u001b[0m\u001b[31m, \u001b[0m\u001b[34m3\u001b[0m\u001b[34m, \u001b[0m\u001b[32m2\u001b[0m]\n",
            "Intercambio = [\u001b[31m1\u001b[0m\u001b[31m, \u001b[0m\u001b[32m2\u001b[0m\u001b[32m, \u001b[0m\u001b[34m3\u001b[0m]\n",
            "Qsort: [5, 7, 6]\n",
            "   Ciclo (5) = [\u001b[31m5\u001b[0m\u001b[31m, \u001b[0m7, \u001b[32m6\u001b[0m]\n",
            "   Ciclo (6) = [\u001b[31m5\u001b[0m\u001b[31m, \u001b[0m\u001b[34m7\u001b[0m\u001b[34m, \u001b[0m\u001b[32m6\u001b[0m]\n",
            "Intercambio = [\u001b[31m5\u001b[0m\u001b[31m, \u001b[0m\u001b[32m6\u001b[0m\u001b[32m, \u001b[0m\u001b[34m7\u001b[0m]\n",
            "\n",
            "Arreglo ordenado: [1, 2, 3, 4, 5, 6, 7]\n",
            "Cantidad de intercambios: 5\n"
          ]
        }
      ]
    },
    {
      "cell_type": "markdown",
      "source": [
        "##**3.3 Para cuando el pivote es $n-1$:**\n",
        "---\n",
        "\n",
        "para este caso el arreglo siempre se partira en una parte con tamaño $n-1$ y otra de tamaño 1, como el ultimo es de orden 1 esto se puede representar mejor de la siguinte forma:\n",
        "\n",
        "$$T(n)=T(n-1)+O(n)$$\n",
        "\n",
        "nuevamente podemos usar el teorema maestro para sacar la complejidad temporal.Segun este para tal caso podemos usar:\n",
        "\n",
        "$$T(n)=aT(n-c)+b*O(n^d)$$\n",
        "\n",
        "deducimos que $a=1$, $c=1$, $b=1$ y $d=1$, basandonos en el teorema para cuando $a=1$ la complejidad es:\n",
        "\n",
        "$$O(n^{d+1})$$\n",
        "\n",
        "remplasando asi podemos deducir que la complejidad temporal de este caso es de $O(n^2)$\n",
        "\n",
        "###**¿Cuando el pivote da n-1?**\n",
        ">en `particion()` si la lista esta ordenada de menor a mayor  los todos los elementos seran menores que el pivote por lo cual siempre retornara la cantidad total de elementos - 1 ($n-1$) \n",
        "---\n",
        "\n",
        "\n",
        "\n"
      ],
      "metadata": {
        "id": "1aHnQ7oyQKvQ"
      }
    },
    {
      "cell_type": "code",
      "source": [
        "a=[1,2,3,4,5,6,7]\n",
        "\n",
        "a,cont = Qsort(0,len(a)-1,a,Particion,True)\n",
        "\n",
        "print()\n",
        "print(\"Arreglo ordenado:\",a)\n",
        "print(\"Cantidad de intercambios:\",cont)"
      ],
      "metadata": {
        "colab": {
          "base_uri": "https://localhost:8080/"
        },
        "id": "1HB8qCHeB0o0",
        "outputId": "fbb1457e-d175-4681-f6d0-30a307b80f3b"
      },
      "execution_count": 274,
      "outputs": [
        {
          "output_type": "stream",
          "name": "stdout",
          "text": [
            "Qsort: [1, 2, 3, 4, 5, 6, 7]\n",
            "   Ciclo (1) = [\u001b[31m1\u001b[0m\u001b[31m, \u001b[0m2, 3, 4, 5, 6, \u001b[32m7\u001b[0m]\n",
            "   Ciclo (2) = [\u001b[31m1, 2\u001b[0m\u001b[31m, \u001b[0m3, 4, 5, 6, \u001b[32m7\u001b[0m]\n",
            "   Ciclo (3) = [\u001b[31m1, 2, 3\u001b[0m\u001b[31m, \u001b[0m4, 5, 6, \u001b[32m7\u001b[0m]\n",
            "   Ciclo (4) = [\u001b[31m1, 2, 3, 4\u001b[0m\u001b[31m, \u001b[0m5, 6, \u001b[32m7\u001b[0m]\n",
            "   Ciclo (5) = [\u001b[31m1, 2, 3, 4, 5\u001b[0m\u001b[31m, \u001b[0m6, \u001b[32m7\u001b[0m]\n",
            "   Ciclo (6) = [\u001b[31m1, 2, 3, 4, 5, 6\u001b[0m\u001b[31m, \u001b[0m\u001b[32m7\u001b[0m]\n",
            "Qsort: [1, 2, 3, 4, 5, 6]\n",
            "   Ciclo (1) = [\u001b[31m1\u001b[0m\u001b[31m, \u001b[0m2, 3, 4, 5, \u001b[32m6\u001b[0m]\n",
            "   Ciclo (2) = [\u001b[31m1, 2\u001b[0m\u001b[31m, \u001b[0m3, 4, 5, \u001b[32m6\u001b[0m]\n",
            "   Ciclo (3) = [\u001b[31m1, 2, 3\u001b[0m\u001b[31m, \u001b[0m4, 5, \u001b[32m6\u001b[0m]\n",
            "   Ciclo (4) = [\u001b[31m1, 2, 3, 4\u001b[0m\u001b[31m, \u001b[0m5, \u001b[32m6\u001b[0m]\n",
            "   Ciclo (5) = [\u001b[31m1, 2, 3, 4, 5\u001b[0m\u001b[31m, \u001b[0m\u001b[32m6\u001b[0m]\n",
            "Qsort: [1, 2, 3, 4, 5]\n",
            "   Ciclo (1) = [\u001b[31m1\u001b[0m\u001b[31m, \u001b[0m2, 3, 4, \u001b[32m5\u001b[0m]\n",
            "   Ciclo (2) = [\u001b[31m1, 2\u001b[0m\u001b[31m, \u001b[0m3, 4, \u001b[32m5\u001b[0m]\n",
            "   Ciclo (3) = [\u001b[31m1, 2, 3\u001b[0m\u001b[31m, \u001b[0m4, \u001b[32m5\u001b[0m]\n",
            "   Ciclo (4) = [\u001b[31m1, 2, 3, 4\u001b[0m\u001b[31m, \u001b[0m\u001b[32m5\u001b[0m]\n",
            "Qsort: [1, 2, 3, 4]\n",
            "   Ciclo (1) = [\u001b[31m1\u001b[0m\u001b[31m, \u001b[0m2, 3, \u001b[32m4\u001b[0m]\n",
            "   Ciclo (2) = [\u001b[31m1, 2\u001b[0m\u001b[31m, \u001b[0m3, \u001b[32m4\u001b[0m]\n",
            "   Ciclo (3) = [\u001b[31m1, 2, 3\u001b[0m\u001b[31m, \u001b[0m\u001b[32m4\u001b[0m]\n",
            "Qsort: [1, 2, 3]\n",
            "   Ciclo (1) = [\u001b[31m1\u001b[0m\u001b[31m, \u001b[0m2, \u001b[32m3\u001b[0m]\n",
            "   Ciclo (2) = [\u001b[31m1, 2\u001b[0m\u001b[31m, \u001b[0m\u001b[32m3\u001b[0m]\n",
            "Qsort: [1, 2]\n",
            "   Ciclo (1) = [\u001b[31m1\u001b[0m\u001b[31m, \u001b[0m\u001b[32m2\u001b[0m]\n",
            "\n",
            "Arreglo ordenado: [1, 2, 3, 4, 5, 6, 7]\n",
            "Cantidad de intercambios: 21\n"
          ]
        }
      ]
    },
    {
      "cell_type": "markdown",
      "source": [
        "##**3.4 Comparaciones de ambos casos**\n",
        "---\n",
        "\n",
        "segun lo enterior:\n",
        ">cuando el pivote era $n/2$ la complejidad temporal de quicksort es de $O(nlog(n))$\n",
        ">\n",
        ">cuando el pivote era $n-1$ la complejidad temporal es de $O(n^2)$\n",
        "\n",
        "asi que se pude conlcuir que el mejor caso es cuando el pivote tiene tamaño(n/2) y el peor es cuando el pivote es $n-1$"
      ],
      "metadata": {
        "id": "GwvTEhcpdTxf"
      }
    },
    {
      "cell_type": "markdown",
      "source": [
        "#**4. Correcion del algoritmo**\n",
        "\n",
        "\n",
        "\n"
      ],
      "metadata": {
        "id": "65ezJJ0eB6ET"
      }
    },
    {
      "cell_type": "markdown",
      "source": [
        "##**4.1 Correcion de partition**\n",
        "---\n",
        "para esto podemos usar la propiedad de Bucle invariable:\n",
        "\n",
        ">_\"Al final de cada iteración j, los Primeros i elementos del arreglo corresponden a los Menores elementos que el pivote y los elemento de i hasta j corresponden a lo mayores elemntos elementos que el pivote.\"_\n",
        "\n",
        "*inicio*:\n",
        "\n",
        "\n",
        "*   Cuando `Particion()` los indices cumplen que $j=i=0$ por lo cual es correcto ya que no posen ningun elemento\n",
        "\n",
        "*mantencion*:\n",
        "\n",
        "* Cada vez que ocurre una iteracion se revisa si el elemnto $j$ es mayor o menor que el pivote que seria $a_r$.y se mantiene la condicion que Si $p ≤ k ≤ i$, entonces $a[k] ≤ a[r]$ y Si $i < k < j$, entonces $a[k] > a[r]$\n",
        ">\n",
        ">![image](https://i.imgur.com/02gPEtP.png)\n",
        "\n",
        "*finalisacion*: \n",
        "\n",
        "* al finalizar el bucle se tiene que los elementos de $a_0$ hasta $a_i$ posee a los elementos menores que el pivote y los elementos de $a_i$ hasta $a_j$, y para terminar intercambia el pivote con el primero de los elementos de a[i:j]\n",
        "y retorna la posision de este\n",
        "\n",
        "\n",
        "\n"
      ],
      "metadata": {
        "id": "iMY1JCVcDhkz"
      }
    },
    {
      "cell_type": "markdown",
      "source": [
        "##**4.2 Correcion de QuickSort**\n",
        "\n",
        "---\n",
        "\n",
        ">teorema:_\"El algoritmo Quicksort genera un arreglo: $[a_1',a_2',...,a_n']$, con los mismos elementos del arreglo de entrada ordenados de menor a mayor, es decir, $a_1'\\leq a_2' \\leq... \\leq a_n'$.\"_\n",
        "\n",
        "\n",
        "Usaremos **inducción matemática** para probar la correctitud de **algoritmos recursivos**.\n",
        "\n",
        "En **inducción matemática,** para probar una declaración $P(n)$, para todos los números naturales $n$, típicamente debemos:\n",
        "\n",
        "1. Probar $P(n)$ para un **caso base**, por ejemplo $P(1)$\n",
        "2. Probar que si $P(m)$ es cierto para $m < n$, entonces $P(n)$ también lo es.\n",
        "\n",
        "\n",
        " \n",
        "\n",
        ">$P(n)$ **Hipotetica**: QuickSort, retorna un **arreglo** con la secuenciua de $n$ elementos de entrada ordenados de menor a mayor. \n",
        "\n",
        ">En el **caso base**, cuando $n=1$, Quicksort retornara el único elemento, por lo cual se cumplira que $P(1)$.\n",
        "\n",
        ">Para el **paso inductivo**, debemos probar que si $P(m)$ es cierta para $m < n$, entonces también lo es $P(n)$.\n",
        "\n",
        "para $n$ elementos el algoritmo obtiene el pivote con **particion** y luego el algoritmo recurciona en 2 partes que serian de tamaño $m($pivote$)$ y $m(n-$pivote$)$ con cada unos de estos menores a $n$.\n",
        "\n",
        "Este proceso se repite hasta que cada una de estas queden con tamaño 1, cuando eso ocurre el algoritmo esta ordenado."
      ],
      "metadata": {
        "id": "8ab6Wk-oDamx"
      }
    },
    {
      "cell_type": "markdown",
      "source": [
        "##5. **Experimentos**\n",
        "---\n",
        "###5.1 **numero de Comparaciones**"
      ],
      "metadata": {
        "id": "SpXtrzcccBs2"
      }
    },
    {
      "cell_type": "code",
      "source": [
        "import matplotlib.pyplot as plt\n",
        "\n",
        "x=[n for n in range(5,20)] \n",
        "y1=[n*(n-1)/2 for n in range(5,20)] # worst case\n",
        "y2=[n-1 for n in range(5,20)] # best case\n",
        "y=[]; \n",
        "\n",
        "for n in range(5,20):\n",
        "  a = random.sample(range(1, 100), n)\n",
        "  a,counter = Qsort(0,len(a)-1,a,Particion)\n",
        "  y.append(counter)\n",
        "\n",
        "plt.plot(x,y)\n",
        "plt.plot(x,y1)\n",
        "plt.plot(x,y2)\n",
        "plt.legend([\"QuickSort\", \"Peor Caso\", \"Mejor Caso\"])\n",
        "\n",
        "plt.xlabel('n')\n",
        "plt.ylabel('number of operations')\n",
        "plt.show()"
      ],
      "metadata": {
        "colab": {
          "base_uri": "https://localhost:8080/",
          "height": 279
        },
        "id": "hS_rMRiLdJVx",
        "outputId": "136b97ac-1e8d-4ac0-d0f0-b0258cd58a7f"
      },
      "execution_count": 291,
      "outputs": [
        {
          "output_type": "display_data",
          "data": {
            "text/plain": [
              "<Figure size 432x288 with 1 Axes>"
            ],
            "image/png": "[encoded data removed]"
          },
          "metadata": {
            "needs_background": "light"
          }
        }
      ]
    },
    {
      "cell_type": "markdown",
      "source": [
        "###5.2 **peor casocon el pivote cambiado Cambio de lugar del pivote**"
      ],
      "metadata": {
        "id": "bqUajBnzhWEf"
      }
    },
    {
      "cell_type": "code",
      "source": [
        "import matplotlib.pyplot as plt\n",
        "\n",
        "x= [n for n in range(5,50)]\n",
        "y=[];\n",
        "y1=[];\n",
        "y2=[]; \n",
        "\n",
        "\n",
        "for n in range(5,50):\n",
        "  a = random.sample(range(1, 100), n)\n",
        "  a,counter1 = Qsort(0,len(a)-1,a,Particion)\n",
        "  y.append(counter1)\n",
        "\n",
        "for n in range(5,50):\n",
        "  a = random.sample(range(1, 100), n)\n",
        "  a,counter2 = Qsort(0,len(a)-1,a,BajaParticion)\n",
        "  y1.append(counter2)\n",
        "\n",
        "for n in range(5,50):\n",
        "  a = random.sample(range(1, 100), n)\n",
        "  a,counter3 = Qsort(0,len(a)-1,a,RandParticion)\n",
        "  y2.append(counter3)\n",
        "\n",
        "plt.plot(x,y)\n",
        "plt.plot(x,y1)\n",
        "plt.plot(x,y2)\n",
        "plt.legend([\"Pivote al final\", \"Pivote al prinsipio\", \"Pivote medio random \"])\n",
        "\n",
        "plt.xlabel('n')\n",
        "plt.ylabel('number of operations')\n",
        "plt.show()"
      ],
      "metadata": {
        "colab": {
          "base_uri": "https://localhost:8080/",
          "height": 279
        },
        "id": "gH80oVKQhRTv",
        "outputId": "f51a138d-2d0f-4ded-cad7-73b7ea9482c1"
      },
      "execution_count": 301,
      "outputs": [
        {
          "output_type": "display_data",
          "data": {
            "text/plain": [
              "<Figure size 432x288 with 1 Axes>"
            ],
            "image/png": "[encoded data removed]"
          },
          "metadata": {
            "needs_background": "light"
          }
        }
      ]
    },
    {
      "cell_type": "markdown",
      "source": [
        "##5.3 Comparaciones con otros algoritmos"
      ],
      "metadata": {
        "id": "O1bE4eb_oNtF"
      }
    },
    {
      "cell_type": "code",
      "source": [
        "def bubble_sort(a, verbose=False):\n",
        "    n = len(a)\n",
        "    T = 0\n",
        "    for i in range(1,n+1):\n",
        "        already_sorted = True\n",
        "\n",
        "        for j in range(n - i):\n",
        "            T +=1\n",
        "            if a[j] > a[j + 1]:\n",
        "                a[j], a[j + 1] = a[j + 1], a[j]\n",
        "                already_sorted = False\n",
        "\n",
        "        if already_sorted:\n",
        "            if verbose == True: print(\"is sorted!\")\n",
        "            break\n",
        "\n",
        "    if verbose == True: print(\"\\noutput array:\",a)\n",
        "\n",
        "    return a\n",
        "\n",
        "def InsertionSort(lista, verbose=False):\n",
        "\n",
        "  n = len(lista) \n",
        "  c = 0\n",
        "  m = 0\n",
        "  temp = c \n",
        "  for i in range(1,n):\n",
        "\n",
        "    aux = lista[i] \n",
        "    j = i-1 \n",
        "\n",
        "    temp = c \n",
        "\n",
        "    while j >= 0 and lista[j] > aux :\n",
        "     \n",
        "      lista[j+1] = lista[j]\n",
        "      j = j-1 \n",
        "      c+=1 \n",
        "    lista[j+1] = aux \n",
        "\n",
        "  return lista\n",
        "\n",
        "import matplotlib.pyplot as plt\n",
        "import datetime\n",
        "from timeit import repeat\n",
        "\n",
        "x=[]\n",
        "y1=[]\n",
        "y2=[]\n",
        "y3=[]\n",
        "\n",
        "for n in range(5,250):\n",
        "\n",
        "  a = random.sample(range(1, 1000), n)\n",
        "\n",
        "  t = repeat(setup=\"from __main__ import bubble_sort\", stmt=f\"bubble_sort({a})\", repeat=1, number=10)\n",
        "  t1 = repeat(setup=\"from __main__ import InsertionSort\", stmt=f\"InsertionSort({a})\", repeat=1, number=10)\n",
        "  t2 = repeat(setup=\"from __main__ import Qsort\", stmt=f\"Qsort({0},{len(a)-1},{a})\", repeat=1, number=10)\n",
        "\n",
        "  x.append(n)\n",
        "  y1.append(t)\n",
        "  y2.append(t1)\n",
        "  y3.append(t2)\n",
        "\n",
        "\n",
        "plt.plot(x,y1)\n",
        "plt.plot(x,y2)\n",
        "plt.plot(x,y3)\n",
        "plt.legend([\"BubbleSort\"])\n",
        "\n",
        "plt.xlabel('n')\n",
        "plt.ylabel('time in ms')\n",
        "plt.show()\n",
        " "
      ],
      "metadata": {
        "colab": {
          "base_uri": "https://localhost:8080/",
          "height": 279
        },
        "id": "gm_snWMXoUcm",
        "outputId": "adeda908-32ce-4707-9c8e-23d955d01711"
      },
      "execution_count": 303,
      "outputs": [
        {
          "output_type": "display_data",
          "data": {
            "text/plain": [
              "<Figure size 432x288 with 1 Axes>"
            ],
            "image/png": "[encoded data removed]"
          },
          "metadata": {
            "needs_background": "light"
          }
        }
      ]
    }
  ]
}