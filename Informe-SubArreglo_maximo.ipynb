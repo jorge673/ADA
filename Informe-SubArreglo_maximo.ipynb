{
  "nbformat": 4,
  "nbformat_minor": 0,
  "metadata": {
    "colab": {
      "name": "Copia de Untitled3.ipynb",
      "provenance": [],
      "authorship_tag": "ABX9TyMtqCgV7MK+1WyCfq7SNVAx",
      "include_colab_link": true
    },
    "kernelspec": {
      "name": "python3",
      "display_name": "Python 3"
    },
    "language_info": {
      "name": "python"
    }
  },
  "cells": [
    {
      "cell_type": "markdown",
      "metadata": {
        "id": "view-in-github",
        "colab_type": "text"
      },
      "source": [
        "<a href=\"https://colab.research.google.com/github/jorge673/ADA/blob/main/Informe-SubArreglo_maximo.ipynb\" target=\"_parent\"><img src=\"https://colab.research.google.com/assets/colab-badge.svg\" alt=\"Open In Colab\"/></a>"
      ]
    },
    {
      "cell_type": "markdown",
      "source": [
        "#1. Problema de sub-arreglo maximo"
      ],
      "metadata": {
        "id": "-omA_r_uNaAy"
      }
    },
    {
      "cell_type": "markdown",
      "source": [
        ">**Entrada:** Un arreglo de n elementos $a=[a_1.....a_n]$\n",
        ">\n",
        ">**Salida**: Un sub-arreglo de $a$ tal que la suma de sus elementos sea mayor que los demas sub arreglos.\n",
        "\n",
        "![image](https://media.geeksforgeeks.org/wp-content/uploads/maximum-subarray-sum-is-7.jpg)\n",
        "\n",
        "El problema trata de encontrar un subarreglo contiguio con la suma mas grande dentro de un arreglo ($a=[a_1.....a_n]$).\n",
        "\n",
        "##-Aplicaciones\n",
        "\n",
        "tiene aplicaciones en muchas areas como:\n",
        "\n",
        ">**El analisis de secuancias geonomicas**: Emplea algoritmos de subarreglo máximo para identificar segmentos biológicos importantes de secuencias de proteínas.\n",
        "> \n",
        ">**Vision artificial**: los algoritmos de subarreglo máximo se utilizan en imágenes de mapa de bits para detectar el área más brillante de una imagen."
      ],
      "metadata": {
        "id": "_xfkv5wndkmi"
      }
    },
    {
      "cell_type": "markdown",
      "source": [
        "\n",
        "# 2. Descripcion del teorema"
      ],
      "metadata": {
        "id": "E65ZsASGS0B4"
      }
    },
    {
      "cell_type": "code",
      "source": [
        "import random\n",
        "from termcolor import colored\n",
        "import copy\n",
        "\n",
        "\n",
        "\n",
        "def MaxSubArrayMid(arr,low,med,high,verbose=False,espaciado=\"\"):\n",
        "\n",
        "  global GIGA,inf,sup\n",
        "\n",
        "  imedi=low\n",
        "  smedd=high\n",
        "\n",
        "  suma=0\n",
        "  izq_max=-10000\n",
        "  \n",
        "\n",
        "  if(verbose):\n",
        "    print(\"-----------------------------------------------------\")\n",
        "    print(espaciado+\"(Funcion MaxSubArrayMid)\\n\")\n",
        "    espaciado=\"   \"+espaciado[:-2]\n",
        "    print(espaciado+\"Sub-array =\",arr[low:high+1])\n",
        "\n",
        "  for i in range(med, low-1, -1):\n",
        "        suma = suma + arr[i]\n",
        " \n",
        "        if (suma > izq_max):\n",
        "            imedi=i\n",
        "            izq_max = suma\n",
        "\n",
        "  if(verbose):\n",
        "    print(\"\\n\"+espaciado+\"MITAD IZQUIRDA:\")\n",
        "    print(\"   \"+espaciado+\"[\"+str(arr[:imedi])[1:-1]+\", \"+colored(f\"{str(arr[imedi:med+1])[1:-1]}\",\"red\")+\", \"+str(arr[med+1:])[1:-1]+\"]\")\n",
        "    print(\"   \"+espaciado+\"Maximo izquierdo =\", izq_max)\n",
        "\n",
        "  suma=0\n",
        "  der_max=-10000\n",
        "\n",
        "  for i in range(med+1,high+1):\n",
        "        suma = suma + arr[i]\n",
        "        \n",
        "        if (suma > der_max):\n",
        "            smedd = i\n",
        "            der_max = suma  \n",
        "\n",
        "  if(verbose):\n",
        "    print(\"\\n\"+espaciado+\"MITAD DERECHA:\")\n",
        "    print(\"   \"+espaciado+\"[\"+str(arr[:med+1])[1:-1]+\", \"+colored(f\"{str(arr[med+1:smedd+1])[1:-1]}\",\"blue\")+\", \"+str(arr[smedd+1:])[1:-1]+\"]\")\n",
        "    print(\"   \"+espaciado+\"Maximo derecho =\", der_max,\"\\n\")\n",
        "    \n",
        "    print(espaciado+\"MITAD DERECHA + MITAD IZQUIRDA :\")\n",
        "\n",
        "\n",
        "    print(\"   \"+espaciado+\"[\"+str(arr[:imedi])[1:-1], end=\", \")\n",
        "\n",
        "    if(arr[imedi:med+1] != []):\n",
        "      print(colored(f\"{str(arr[imedi:med+1])[1:-1]}\",\"red\"),end=\", \")\n",
        "\n",
        "    if(arr[med+1:smedd+1] != []):\n",
        "      print(\", \"+colored(f\"{str(arr[med+1:smedd+1])[1:-1]}\",\"blue\"),end=\"\")\n",
        "\n",
        "    print(\", \"+str(arr[smedd+1:])[1:-1]+\"]\")\n",
        "\n",
        "\n",
        "    print(\"   \"+espaciado+\"Maximo =\",der_max+izq_max)\n",
        "    print(\"-----------------------------------------------------\")\n",
        "\n",
        "  if(GIGA < der_max+izq_max):\n",
        "    GIGA = der_max+izq_max\n",
        "    inf=imedi\n",
        "    sup=smedd\n",
        "\n",
        "  return der_max+izq_max\n",
        "\n",
        "\n",
        "def MaxSubArray(arr,low,high,verbose=False,espaciado=\"\"):\n",
        "  \n",
        "  global GIGA,inf,sup\n",
        "  \n",
        "  \n",
        "  linea=espaciado+\"└─\"\n",
        "\n",
        "  if(verbose and arr != [] ):\n",
        "    print(linea+\"Sub-arreglo:\",arr[low:high+1])\n",
        "\n",
        "  if(low==high):\n",
        "\n",
        "    if(verbose):\n",
        "      print(espaciado+\"   Es de orden 1\\n\")\n",
        "\n",
        "    if(GIGA < arr[low]):\n",
        "      GIGA = arr[low]\n",
        "      sup=low\n",
        "      inf=low\n",
        "\n",
        "    return arr[low]\n",
        "\n",
        "  \n",
        "  elif verbose:\n",
        "    print(\"\")\n",
        "    espaciado+=\"  \"\n",
        "\n",
        "  med=(low+high)//2\n",
        "\n",
        "  max_izq=MaxSubArray(arr,low,med,verbose,espaciado)\n",
        "  max_der=MaxSubArray(arr,med+1,high,verbose,espaciado)\n",
        "  max_mid=MaxSubArrayMid(arr,low,med,high,verbose,linea)\n",
        "\n",
        "  return max(max_izq,max_der,max_mid)\n",
        "    \n",
        "a = [1,2,3,4,5,6,7]\n",
        "n = len(a)\n",
        "GIGA=-10000000\n",
        "\n",
        "print(\"La Mayor suma es =\",MaxSubArray(a,0,n-1,False,\"\"))\n",
        "print(\"sub-arreglo =\"+\"[\"+str(a[:inf])[1:-1]+\", \"+colored(f\"{str(a[inf:sup+1])[1:-1]}\",\"green\")+\", \"+str(a[sup+1:])[1:-1]+\"]\")\n"
      ],
      "metadata": {
        "id": "2J1PjcWYfktO",
        "colab": {
          "base_uri": "https://localhost:8080/"
        },
        "outputId": "7eb5c0c0-efa7-451f-8bfe-9bc3b32cfeec"
      },
      "execution_count": 92,
      "outputs": [
        {
          "output_type": "stream",
          "name": "stdout",
          "text": [
            "La Mayor suma es = 28\n",
            "sub-arreglo =[, \u001b[32m1, 2, 3, 4, 5, 6, 7\u001b[0m, ]\n"
          ]
        }
      ]
    },
    {
      "cell_type": "markdown",
      "source": [
        "##MaxSubArray\n",
        "\n",
        "el agoritmo () es muy parecido a marge-sort ya que usa el paradigma de divide y conquista, este recibe un arreglo `a` con una cantidad de $n$ elementos, recive el indice inferior `low` del arreglo que seria 0 en la primera iteracion y la variable `high` que es el indice superior del arreglo osea `n`.\n",
        "\n",
        " 1. Si `low = high` retorna el arreglo ya que seria de orden 1.\n",
        "\n",
        " 2. Deduce el indice que esta en la mitad (`(low+high)//2`) luego se genera: \n",
        ">`max_izq` = MaxSubArray desde el indice inferior hasta el de la mitad,\n",
        ">\n",
        ">`max_der` = MaxSubArray desde el indice medio hasta el superior\n",
        ">\n",
        ">`max_mid` = MaxSubArrayMid desde el incice inferior hasta el superior el arrelgo\n",
        "\n",
        "luego compara estos 3 y retorna el mayor\n",
        "\n",
        "##MaxSubArrayMid\n",
        "esta funcion recibe 4 parametros que serian **( `arr` El arreglo ; `low` indice inferior ; `med` indice medio ; `high` indice superior )**\n",
        "\n",
        "La funcion calcula los sub-arreglos con tamaño $n/2$ con $n$ el largo de `arr` primero calcula la suma la mitad izquierda del arreglo (`low` hasta `med`), luego de la mitad derecha (`med` hasta `hight`) y al final retorna la suma de ambos maximos"
      ],
      "metadata": {
        "id": "PObmSidXq6vJ"
      }
    },
    {
      "cell_type": "markdown",
      "source": [
        "#**3. Tiempo de ejecucion**\n",
        "\n"
      ],
      "metadata": {
        "id": "5CMGjf93c7Up"
      }
    },
    {
      "cell_type": "markdown",
      "source": [
        "##Teorema\n",
        "\n",
        ">*El agloritmo **MaxSubArrayMid** tiene un tiempo de ejecucion de $O(nlog(n))$*\n",
        "\n",
        "##Prueba del algoritmo\n",
        "\n",
        "Como se menciono antes el algoritmo se parece a MargeSort el cual al igual que este algoritmo tanto en el peor caso como en el mejor caso va hacer la misma cantidad de iteraciones\n",
        "\n",
        "##Ejemplo"
      ],
      "metadata": {
        "id": "2a-djHwSdP2I"
      }
    },
    {
      "cell_type": "code",
      "source": [
        "a = [1,2,3,4,5]\n",
        "n = len(a)\n",
        "GIGA=-10000000\n",
        "print(\"La Mayor suma es =\",MaxSubArray(a,0,n-1,True))\n",
        "print(\"Indice inicial :\",inf,\"\\nIndice final:\",sup)\n",
        "print(\"sub-arreglo =\"+\"[\"+str(a[:inf])[1:-1]+\", \"+colored(f\"{str(a[inf:sup+1])[1:-1]}\",\"green\")+\", \"+str(a[sup+1:])[1:-1]+\"]\")"
      ],
      "metadata": {
        "colab": {
          "base_uri": "https://localhost:8080/"
        },
        "id": "Trv0yCMk8P71",
        "outputId": "0aa87fda-a1c6-46f9-d507-57922040d1f8"
      },
      "execution_count": 98,
      "outputs": [
        {
          "output_type": "stream",
          "name": "stdout",
          "text": [
            "└─Sub-arreglo: [1, 2, 3, 4, 5]\n",
            "\n",
            "  └─Sub-arreglo: [1, 2, 3]\n",
            "\n",
            "    └─Sub-arreglo: [1, 2]\n",
            "\n",
            "      └─Sub-arreglo: [1]\n",
            "         Es de orden 1\n",
            "\n",
            "      └─Sub-arreglo: [2]\n",
            "         Es de orden 1\n",
            "\n",
            "-----------------------------------------------------\n",
            "    └─(Funcion MaxSubArrayMid)\n",
            "\n",
            "       Sub-array = [1, 2]\n",
            "\n",
            "       MITAD IZQUIRDA:\n",
            "          [, \u001b[31m1\u001b[0m, 2, 3, 4, 5]\n",
            "          Maximo izquierdo = 1\n",
            "\n",
            "       MITAD DERECHA:\n",
            "          [1, \u001b[34m2\u001b[0m, 3, 4, 5]\n",
            "          Maximo derecho = 2 \n",
            "\n",
            "       MITAD DERECHA + MITAD IZQUIRDA :\n",
            "          [, \u001b[31m1\u001b[0m, , \u001b[34m2\u001b[0m, 3, 4, 5]\n",
            "          Maximo = 3\n",
            "-----------------------------------------------------\n",
            "    └─Sub-arreglo: [3]\n",
            "       Es de orden 1\n",
            "\n",
            "-----------------------------------------------------\n",
            "  └─(Funcion MaxSubArrayMid)\n",
            "\n",
            "     Sub-array = [1, 2, 3]\n",
            "\n",
            "     MITAD IZQUIRDA:\n",
            "        [, \u001b[31m1, 2\u001b[0m, 3, 4, 5]\n",
            "        Maximo izquierdo = 3\n",
            "\n",
            "     MITAD DERECHA:\n",
            "        [1, 2, \u001b[34m3\u001b[0m, 4, 5]\n",
            "        Maximo derecho = 3 \n",
            "\n",
            "     MITAD DERECHA + MITAD IZQUIRDA :\n",
            "        [, \u001b[31m1, 2\u001b[0m, , \u001b[34m3\u001b[0m, 4, 5]\n",
            "        Maximo = 6\n",
            "-----------------------------------------------------\n",
            "  └─Sub-arreglo: [4, 5]\n",
            "\n",
            "    └─Sub-arreglo: [4]\n",
            "       Es de orden 1\n",
            "\n",
            "    └─Sub-arreglo: [5]\n",
            "       Es de orden 1\n",
            "\n",
            "-----------------------------------------------------\n",
            "  └─(Funcion MaxSubArrayMid)\n",
            "\n",
            "     Sub-array = [4, 5]\n",
            "\n",
            "     MITAD IZQUIRDA:\n",
            "        [1, 2, 3, \u001b[31m4\u001b[0m, 5]\n",
            "        Maximo izquierdo = 4\n",
            "\n",
            "     MITAD DERECHA:\n",
            "        [1, 2, 3, 4, \u001b[34m5\u001b[0m, ]\n",
            "        Maximo derecho = 5 \n",
            "\n",
            "     MITAD DERECHA + MITAD IZQUIRDA :\n",
            "        [1, 2, 3, \u001b[31m4\u001b[0m, , \u001b[34m5\u001b[0m, ]\n",
            "        Maximo = 9\n",
            "-----------------------------------------------------\n",
            "-----------------------------------------------------\n",
            "└─(Funcion MaxSubArrayMid)\n",
            "\n",
            "   Sub-array = [1, 2, 3, 4, 5]\n",
            "\n",
            "   MITAD IZQUIRDA:\n",
            "      [, \u001b[31m1, 2, 3\u001b[0m, 4, 5]\n",
            "      Maximo izquierdo = 6\n",
            "\n",
            "   MITAD DERECHA:\n",
            "      [1, 2, 3, \u001b[34m4, 5\u001b[0m, ]\n",
            "      Maximo derecho = 9 \n",
            "\n",
            "   MITAD DERECHA + MITAD IZQUIRDA :\n",
            "      [, \u001b[31m1, 2, 3\u001b[0m, , \u001b[34m4, 5\u001b[0m, ]\n",
            "      Maximo = 15\n",
            "-----------------------------------------------------\n",
            "La Mayor suma es = 15\n",
            "Indice inicial : 0 \n",
            "Indice final: 4\n",
            "sub-arreglo =[, \u001b[32m1, 2, 3, 4, 5\u001b[0m, ]\n"
          ]
        }
      ]
    },
    {
      "cell_type": "markdown",
      "source": [
        "A pesar de que a simple vista se sabe cual es el sub arreglo mas grande el algoritmo aun asi hacer todo el proceso de recurcion, este se divide en 2 mitades de largo $n/2$ y hace el trabajo de MaxSubArray a cada una de estas\n",
        "\n",
        "Luego MaxSubArrayMid el cual tiene complejidad $O(n^2)$ se le entrega el arreglo completo para que saque la suma total del arreglo\n",
        "\n",
        "Utilisando la relacion de recurrencia nos daria que:\n",
        "\n",
        "$$T(n)=2T(\\frac{n}{2})+O(n^2)$$\n",
        "\n",
        "\n",
        "y utilisando el teorema maestro nos da que la complejidad del algoritmo da:\n",
        "\n",
        "$$O(nlog(n))$$\n",
        "\n"
      ],
      "metadata": {
        "id": "jV-gDiFI_YdS"
      }
    },
    {
      "cell_type": "markdown",
      "source": [
        "#4. Correctitud\n"
      ],
      "metadata": {
        "id": "stdOz6N_xm_h"
      }
    },
    {
      "cell_type": "markdown",
      "source": [
        "##Propiedad ivariable de bucle:\n",
        "\n",
        ">\"***en cada una de las iteracion MaxSubArrayMid el algoritmo busca la mayor suma de la dos mitades y retorna ambas sumadas***\"\n",
        "\n",
        "**Inicialización**: Al iniciar el algoritmo hambos ciclos empiensa en el mismo punto\n",
        "\n",
        "**Mantecion**: Ambos iran sumando respectivamente dependiendo su mitad (si es la izquierda sumara hacia la izquierda y si va a la derecha sumara hacia la derecha) \n",
        "\n",
        "**Finalizacion**: Se sacan los maximos de ambas mitades y se suman \n",
        "\n",
        "##Inducción matemática:\n",
        "\n",
        ">\"***P(n) retorna un arreglo de n elementos Caso Base***\"\n",
        "\n",
        "Cuando $n = 1$, MaxSubArray retorna el elemento sin realizar ninguna operación, debido a que tecnicamente no puede haber mas Sub-arreglos\n",
        "\n",
        "Paso Inductivo:\n",
        "Para un arreglo de $n$-elementos se crean 2 subarreglos de largo $m = n/2$ que se ordenan usando MaxSubArray de manera recursiva, por lo que eventualmente llegara al caso $n = 1$ (Caso Base) para retornar dicho valor"
      ],
      "metadata": {
        "id": "2yM4guaRda0z"
      }
    },
    {
      "cell_type": "markdown",
      "source": [
        "#5.Experimentacion\n",
        "\n",
        "##Comparaciones con Kadane, Furza bruta y Divide y conquista"
      ],
      "metadata": {
        "id": "zbH5MIQrxrcu"
      }
    },
    {
      "cell_type": "code",
      "source": [
        "def kadane(numbers):\n",
        "    \"\"\"Find the largest sum of any contiguous subarray.\"\"\"\n",
        "    if numbers == []:\n",
        "        raise ValueError('Empty array has no nonempty subarrays')\n",
        "\n",
        "    best_sum = float('-inf')\n",
        "    current_sum = 0\n",
        "    for x in numbers:\n",
        "        current_sum = max(x, current_sum + x)   \n",
        "        best_sum = max(best_sum, current_sum)\n",
        "    return best_sum\n",
        "\n",
        "import matplotlib.pyplot as plt\n",
        "import datetime\n",
        "from timeit import repeat\n",
        "\n",
        "xk=[]; yk=[]\n",
        "xd=[]; yd=[]\n",
        "\n",
        "for n in range(5,250):\n",
        "\n",
        "  a = random.sample(range(1, 1000), n)\n",
        "\n",
        "  t = repeat(setup=\"from __main__ import kadane\", stmt=f\"kadane({a})\", repeat=1, number=10)\n",
        "\n",
        "  xk.append(n)\n",
        "  yk.append(t)\n",
        "\n",
        "  t = repeat(setup=\"from __main__ import MaxSubArray\", stmt=f\"MaxSubArray({a},{0},{len(a)-1})\", repeat=1, number=10)\n",
        "\n",
        "  xd.append(n)\n",
        "  yd.append(t)\n",
        "\n",
        "\n",
        "plt.plot(xd,yd)\n",
        "plt.plot(xk,yk)\n",
        "plt.legend([\"Divide y conquista\",\"Kadane\"])\n",
        "\n",
        "plt.xlabel('n')\n",
        "plt.ylabel('time in ms')\n",
        "plt.show()"
      ],
      "metadata": {
        "colab": {
          "base_uri": "https://localhost:8080/",
          "height": 279
        },
        "id": "rzbAJ1zxgg-X",
        "outputId": "a6ec1413-8327-4e34-bdbf-a5e7557fd755"
      },
      "execution_count": 100,
      "outputs": [
        {
          "output_type": "display_data",
          "data": {
            "text/plain": [
              "<Figure size 432x288 with 1 Axes>"
            ],
            "image/png": "[encoded data removed]"
          },
          "metadata": {
            "needs_background": "light"
          }
        }
      ]
    },
    {
      "cell_type": "markdown",
      "source": [
        "#Analisis\n",
        "\n",
        "Como podemos apresiar a Kadane tiene un mejor tiempo que Divide y conquista siendo el cual es O(n) esto ocurre ya que kadane funciona como MaxSubArrayMid cuando recorre las mitades con la diferencia que recorre desde inicio hasta fin en un solo ciclo lo cual reduce mucho los tiempos "
      ],
      "metadata": {
        "id": "sbLDDaNDjxAP"
      }
    },
    {
      "cell_type": "code",
      "source": [
        "\n",
        "def fuerzaBruta(arr):\n",
        "  best_sum = float('-inf')\n",
        "  current_sum = 0\n",
        "  for i in range(0,len(a)):\n",
        "    current_sum=0\n",
        "    for j in range(i,len(a)):\n",
        "      current_sum+=arr[j]\n",
        "      best_sum = max(best_sum, current_sum)\n",
        "\n",
        "  return best_sum\n",
        "\n",
        "\n",
        "import matplotlib.pyplot as plt\n",
        "import datetime\n",
        "from timeit import repeat\n",
        "\n",
        "xk=[]; yk=[]\n",
        "xf=[]; yf=[]\n",
        "xd=[]; yd=[]\n",
        "\n",
        "for n in range(5,250):\n",
        "\n",
        "  a = random.sample(range(1, 1000), n)\n",
        "\n",
        "  t = repeat(setup=\"from __main__ import fuerzaBruta\", stmt=f\"fuerzaBruta({a})\", repeat=1, number=10)\n",
        "\n",
        "  xf.append(n)\n",
        "  yf.append(t)\n",
        "\n",
        "for n in range(5,250):\n",
        "\n",
        "  a = random.sample(range(1, 1000), n)\n",
        "\n",
        "  t = repeat(setup=\"from __main__ import kadane\", stmt=f\"kadane({a})\", repeat=1, number=10)\n",
        "\n",
        "  xk.append(n)\n",
        "  yk.append(t)\n",
        "\n",
        "for n in range(5,250):\n",
        "\n",
        "  a = random.sample(range(1, 1000), n)\n",
        "  t = repeat(setup=\"from __main__ import MaxSubArray\", stmt=f\"MaxSubArray({a},{0},{len(a)-1})\", repeat=1, number=10)\n",
        "\n",
        "  xd.append(n)\n",
        "  yd.append(t)\n",
        "\n",
        "\n",
        "plt.plot(xf,yf)\n",
        "plt.plot(xd,yd)\n",
        "plt.plot(xk,yk)\n",
        "plt.legend([\"Fuerza Bruta\",\"Divide y conquista\",\"Kadane\"])\n",
        "\n",
        "plt.xlabel('n')\n",
        "plt.ylabel('time in ms')\n",
        "plt.show()"
      ],
      "metadata": {
        "colab": {
          "base_uri": "https://localhost:8080/",
          "height": 279
        },
        "id": "fn8AQYm8zSMi",
        "outputId": "d6cfb15c-5962-4802-9ae8-18fd78370c3e"
      },
      "execution_count": 101,
      "outputs": [
        {
          "output_type": "display_data",
          "data": {
            "text/plain": [
              "<Figure size 432x288 with 1 Axes>"
            ],
            "image/png": "[encoded data removed]"
          },
          "metadata": {
            "needs_background": "light"
          }
        }
      ]
    },
    {
      "cell_type": "markdown",
      "source": [
        "#analisis\n",
        "\n",
        "Comparando todos los algoritmos para el problema de Sub-arreglo maximo de lo cual podemos decucir que\n",
        "\n",
        "* Divide y conquista a pesar de ser lento aun asi no pasa de la milesima 0.01 en los primeros 250 casos\n",
        "* Kadane es el mas rapido y simple de los 3\n",
        "* Fuerza Bruta es mucho mas lento que los 3 porque su complejidad es $O(n)^2$ al hacer recorrer $n$ veces el arreglo\n"
      ],
      "metadata": {
        "id": "iJ5J7eQbj7bU"
      }
    }
  ]
}